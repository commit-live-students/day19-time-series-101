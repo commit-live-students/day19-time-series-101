{
 "cells": [
  {
   "cell_type": "markdown",
   "metadata": {},
   "source": [
    "# Getting started\n",
    "\n",
    "1. Create a new GitHub repository, call it something like `time_series_basic` or `time_series_forecasting_basic` etc\n",
    "2. Clone the repository to a local folder on your workstation\n",
    "3. Change into the folder\n",
    "4. Activate the `greyatom` environment: `source activate greyatom`\n",
    "5. Start jupyter notebook: `jupyter notebook`\n",
    "6. Create two notebooks\n",
    "    - `scratchpad.ipynb`\n",
    "    - `daily_temperature_prediction.ipynb`\n",
    "7. Add, commit and push the changes to the remote repo\n",
    "\n",
    "> git add .\n",
    "\n",
    "> git commit -m 'adds notebooks'\n",
    "\n",
    "> git push"
   ]
  },
  {
   "cell_type": "code",
   "execution_count": 5,
   "metadata": {},
   "outputs": [
    {
     "name": "stdout",
     "output_type": "stream",
     "text": [
      "<class 'pandas.core.series.Series'>\n"
     ]
    },
    {
     "data": {
      "text/plain": [
       "Date\n",
       "1959-01-01    35\n",
       "1959-01-02    32\n",
       "1959-01-03    30\n",
       "1959-01-04    31\n",
       "1959-01-05    44\n",
       "Name: Daily total female births in California, 1959, dtype: int64"
      ]
     },
     "execution_count": 5,
     "metadata": {},
     "output_type": "execute_result"
    }
   ],
   "source": [
    "from pandas import Series\n",
    "\n",
    "series = Series.from_csv('./data/female_births.csv', header=0)\n",
    "print(type(series))\n",
    "series.head()"
   ]
  },
  {
   "cell_type": "markdown",
   "metadata": {},
   "source": [
    "* You can see that each row has an associated date.\n",
    "    - This is in fact not a column, but instead a time index for value.\n",
    "    - As an index, there can be multiple values for one time, and values may be spaced evenly or unevenly across times.\n",
    "* The main function for loading CSV data in Pandas is `read_csv()`. We can use this to load the time series as a Series object, instead of a DataFrame, as follows:"
   ]
  },
  {
   "cell_type": "code",
   "execution_count": 16,
   "metadata": {},
   "outputs": [
    {
     "name": "stdout",
     "output_type": "stream",
     "text": [
      "<class 'pandas.core.series.Series'>\n",
      "Date\n",
      "1959-01-01    35\n",
      "1959-01-02    32\n",
      "1959-01-03    30\n",
      "1959-01-04    31\n",
      "1959-01-05    44\n",
      "Name: Daily total female births in California, 1959, dtype: int64\n"
     ]
    }
   ],
   "source": [
    "from pprint import pprint\n",
    "from pandas import read_csv\n",
    "series = read_csv('./data/female_births.csv', \n",
    "                  header=0, parse_dates=[0], index_col=0, squeeze=True)\n",
    "print(type(series))\n",
    "print(series.head())"
   ]
  },
  {
   "cell_type": "markdown",
   "metadata": {},
   "source": [
    "* **header=0**: We must specify the header information at row 0.\n",
    "* **parse dates=[0]**: We give the function a hint that data in the first column contains dates that need to be parsed. This argument takes a list, so we provide it a list of one element, which is the index of the first column.\n",
    "* **index_col=0**: We give a hint that the first column contains the index information for the time series.\n",
    "* **squeeze=True**: We give a hint that we only have one data column and that we are interested in a Series and not a DataFrame.\n",
    "* In this example, the date format has been inferred, and this works in most cases.\n",
    "    - In those few cases where it does not, specify your own date parsing function and use the `date_parser` argument.\n",
    "    \n",
    "## Explore Data"
   ]
  },
  {
   "cell_type": "code",
   "execution_count": 102,
   "metadata": {},
   "outputs": [
    {
     "data": {
      "text/plain": [
       "Date\n",
       "1959-01-01    35\n",
       "1959-01-02    32\n",
       "1959-01-03    30\n",
       "1959-01-04    31\n",
       "1959-01-05    44\n",
       "1959-01-06    29\n",
       "1959-01-07    45\n",
       "1959-01-08    43\n",
       "1959-01-09    38\n",
       "1959-01-10    27\n",
       "Name: Daily total female births in California, 1959, dtype: int64"
      ]
     },
     "execution_count": 102,
     "metadata": {},
     "output_type": "execute_result"
    }
   ],
   "source": [
    "from pprint import pprint\n",
    "from pandas import read_csv\n",
    "series = read_csv('./data/female_births.csv', \n",
    "                  header=0, parse_dates=[0], index_col=0, squeeze=True)\n",
    "\n",
    "series.head(10)"
   ]
  },
  {
   "cell_type": "code",
   "execution_count": 103,
   "metadata": {},
   "outputs": [
    {
     "data": {
      "text/plain": [
       "Date\n",
       "1959-12-27    37\n",
       "1959-12-28    52\n",
       "1959-12-29    48\n",
       "1959-12-30    55\n",
       "1959-12-31    50\n",
       "Name: Daily total female births in California, 1959, dtype: int64"
      ]
     },
     "execution_count": 103,
     "metadata": {},
     "output_type": "execute_result"
    }
   ],
   "source": [
    "series.tail()"
   ]
  },
  {
   "cell_type": "code",
   "execution_count": 104,
   "metadata": {},
   "outputs": [
    {
     "data": {
      "text/plain": [
       "(365,)"
      ]
     },
     "execution_count": 104,
     "metadata": {},
     "output_type": "execute_result"
    }
   ],
   "source": [
    "series.shape"
   ]
  },
  {
   "cell_type": "code",
   "execution_count": 105,
   "metadata": {},
   "outputs": [
    {
     "data": {
      "text/plain": [
       "365"
      ]
     },
     "execution_count": 105,
     "metadata": {},
     "output_type": "execute_result"
    }
   ],
   "source": [
    "series.size"
   ]
  },
  {
   "cell_type": "markdown",
   "metadata": {},
   "source": [
    "### Descriptive Statistics"
   ]
  },
  {
   "cell_type": "code",
   "execution_count": 106,
   "metadata": {},
   "outputs": [
    {
     "data": {
      "text/plain": [
       "count    365.000000\n",
       "mean      41.980822\n",
       "std        7.348257\n",
       "min       23.000000\n",
       "25%       37.000000\n",
       "50%       42.000000\n",
       "75%       46.000000\n",
       "max       73.000000\n",
       "Name: Daily total female births in California, 1959, dtype: float64"
      ]
     },
     "execution_count": 106,
     "metadata": {},
     "output_type": "execute_result"
    }
   ],
   "source": [
    "series.describe()"
   ]
  },
  {
   "cell_type": "code",
   "execution_count": 25,
   "metadata": {},
   "outputs": [
    {
     "data": {
      "text/plain": [
       "18.977587954880505"
      ]
     },
     "execution_count": 25,
     "metadata": {},
     "output_type": "execute_result"
    }
   ],
   "source": [
    "series.skew()"
   ]
  },
  {
   "cell_type": "markdown",
   "metadata": {},
   "source": [
    "### Load Data\n",
    "\n",
    "**Swtich to your time-series-forecasting notebook**"
   ]
  },
  {
   "cell_type": "code",
   "execution_count": 34,
   "metadata": {},
   "outputs": [
    {
     "data": {
      "text/plain": [
       "Date\n",
       "1981-01-01    20.7\n",
       "1981-01-02    17.9\n",
       "1981-01-03    18.8\n",
       "1981-01-04    14.6\n",
       "1981-01-05    15.8\n",
       "Name: Daily minimum temperatures in Melbourne, Australia, 1981-1990, dtype: object"
      ]
     },
     "execution_count": 34,
     "metadata": {},
     "output_type": "execute_result"
    }
   ],
   "source": [
    "series = read_csv('./data/daily_temp.csv', \n",
    "                  header=0, parse_dates=[0], index_col=0, squeeze=True)\n",
    "series.head()"
   ]
  },
  {
   "cell_type": "code",
   "execution_count": 35,
   "metadata": {},
   "outputs": [
    {
     "data": {
      "text/html": [
       "<div>\n",
       "<style>\n",
       "    .dataframe thead tr:only-child th {\n",
       "        text-align: right;\n",
       "    }\n",
       "\n",
       "    .dataframe thead th {\n",
       "        text-align: left;\n",
       "    }\n",
       "\n",
       "    .dataframe tbody tr th {\n",
       "        vertical-align: top;\n",
       "    }\n",
       "</style>\n",
       "<table border=\"1\" class=\"dataframe\">\n",
       "  <thead>\n",
       "    <tr style=\"text-align: right;\">\n",
       "      <th></th>\n",
       "      <th>Daily minimum temperatures in Melbourne, Australia, 1981-1990</th>\n",
       "    </tr>\n",
       "    <tr>\n",
       "      <th>Date</th>\n",
       "      <th></th>\n",
       "    </tr>\n",
       "  </thead>\n",
       "  <tbody>\n",
       "    <tr>\n",
       "      <th>1981-01-01</th>\n",
       "      <td>20.7</td>\n",
       "    </tr>\n",
       "    <tr>\n",
       "      <th>1981-01-02</th>\n",
       "      <td>17.9</td>\n",
       "    </tr>\n",
       "    <tr>\n",
       "      <th>1981-01-03</th>\n",
       "      <td>18.8</td>\n",
       "    </tr>\n",
       "    <tr>\n",
       "      <th>1981-01-04</th>\n",
       "      <td>14.6</td>\n",
       "    </tr>\n",
       "    <tr>\n",
       "      <th>1981-01-05</th>\n",
       "      <td>15.8</td>\n",
       "    </tr>\n",
       "  </tbody>\n",
       "</table>\n",
       "</div>"
      ],
      "text/plain": [
       "           Daily minimum temperatures in Melbourne, Australia, 1981-1990\n",
       "Date                                                                    \n",
       "1981-01-01                                               20.7           \n",
       "1981-01-02                                               17.9           \n",
       "1981-01-03                                               18.8           \n",
       "1981-01-04                                               14.6           \n",
       "1981-01-05                                               15.8           "
      ]
     },
     "execution_count": 35,
     "metadata": {},
     "output_type": "execute_result"
    }
   ],
   "source": [
    "series = read_csv('./data/daily_temp.csv', \n",
    "                  header=0, parse_dates=[0], index_col=0)\n",
    "series.head()"
   ]
  },
  {
   "cell_type": "markdown",
   "metadata": {},
   "source": [
    "## Adding Date Time Features\n",
    "\n",
    "Add day, month and year"
   ]
  },
  {
   "cell_type": "code",
   "execution_count": 108,
   "metadata": {},
   "outputs": [
    {
     "name": "stdout",
     "output_type": "stream",
     "text": [
      "   year  month  day temperature\n",
      "0     0      1    1        20.7\n",
      "1     0      1    2        17.9\n",
      "2     0      1    3        18.8\n",
      "3     0      1    4        14.6\n",
      "4     0      1    5        15.8\n"
     ]
    }
   ],
   "source": [
    "from pandas import Series\n",
    "from pandas import DataFrame\n",
    "series = Series.from_csv('./data/daily_temp.csv', header=0)\n",
    "\n",
    "dataframe = DataFrame()\n",
    "\n",
    "dataframe['year'] = [series.index[i].year-1981 for i in range(len(series))] \n",
    "dataframe['month'] = [series.index[i].month for i in range(len(series))] \n",
    "dataframe['day'] = [series.index[i].day for i in range(len(series))] \n",
    "dataframe['temperature'] = [series[i] for i in range(len(series))] \n",
    "\n",
    "print(dataframe.head(5))"
   ]
  },
  {
   "cell_type": "markdown",
   "metadata": {},
   "source": [
    "Some more examples (which of the following are going to be useful?):\n",
    "\n",
    "* Minutes elapsed for the day\n",
    "* Hour of day\n",
    "* Business hours or not\n",
    "* Weekend or not\n",
    "* Season of the year\n",
    "* Business quarter of the year\n",
    "* Daylight savings or not\n",
    "* Public holiday or not\n",
    "* Leap year or not\n",
    "\n",
    "## Adding Lag features\n",
    "\n",
    "* The Pandas library provides the `shift()` function to help create these shifted or lag features from a time series dataset.\n",
    "* Shifting the dataset by 1 creates the t column, adding a NaN (unknown) value for the first row\n",
    "* The time series dataset without a shift represents the t+1"
   ]
  },
  {
   "cell_type": "code",
   "execution_count": 37,
   "metadata": {},
   "outputs": [
    {
     "name": "stdout",
     "output_type": "stream",
     "text": [
      "      t   t+1\n",
      "0   NaN  20.7\n",
      "1  20.7  17.9\n",
      "2  17.9  18.8\n",
      "3  18.8  14.6\n",
      "4  14.6  15.8\n"
     ]
    }
   ],
   "source": [
    "from pandas import Series\n",
    "from pandas import DataFrame\n",
    "from pandas import concat\n",
    "series = Series.from_csv('./data/daily_temp.csv', header=0) \n",
    "\n",
    "temps = DataFrame(series.values)\n",
    "dataframe = concat([temps.shift(1), temps], axis=1)\n",
    "dataframe.columns = ['t', 't+1']\n",
    "print(dataframe.head(5))"
   ]
  },
  {
   "cell_type": "markdown",
   "metadata": {},
   "source": [
    "We can expand the window width and include more lagged features. Let us include the last 3 observed values to predict the value at the next time step."
   ]
  },
  {
   "cell_type": "code",
   "execution_count": 38,
   "metadata": {},
   "outputs": [
    {
     "name": "stdout",
     "output_type": "stream",
     "text": [
      "    t-2   t-1     t   t+1\n",
      "0   NaN   NaN   NaN  20.7\n",
      "1   NaN   NaN  20.7  17.9\n",
      "2   NaN  20.7  17.9  18.8\n",
      "3  20.7  17.9  18.8  14.6\n",
      "4  17.9  18.8  14.6  15.8\n"
     ]
    }
   ],
   "source": [
    "from pandas import Series\n",
    "from pandas import DataFrame\n",
    "from pandas import concat\n",
    "series = Series.from_csv('./data/daily_temp.csv', header=0) \n",
    "\n",
    "temps = DataFrame(series.values)\n",
    "dataframe = concat([temps.shift(3), temps.shift(2), temps.shift(1), temps], axis=1)\n",
    "dataframe.columns = ['t-2', 't-1', 't', 't+1']\n",
    "print(dataframe.head(5))"
   ]
  },
  {
   "cell_type": "markdown",
   "metadata": {},
   "source": [
    "You can include lag values from past week, month or year as well."
   ]
  }
 ],
 "metadata": {
  "anaconda-cloud": {},
  "kernelspec": {
   "display_name": "Python 2",
   "language": "python",
   "name": "python2"
  },
  "language_info": {
   "codemirror_mode": {
    "name": "ipython",
    "version": 2
   },
   "file_extension": ".py",
   "mimetype": "text/x-python",
   "name": "python",
   "nbconvert_exporter": "python",
   "pygments_lexer": "ipython2",
   "version": "2.7.13"
  },
  "widgets": {
   "state": {},
   "version": "1.1.2"
  }
 },
 "nbformat": 4,
 "nbformat_minor": 1
}
